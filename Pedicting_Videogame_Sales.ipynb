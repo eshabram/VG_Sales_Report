{
  "nbformat": 4,
  "nbformat_minor": 0,
  "metadata": {
    "colab": {
      "provenance": [],
      "collapsed_sections": [
        "Uye00KRt7fiq",
        "-4bzHm0Vftne"
      ]
    },
    "kernelspec": {
      "name": "python3",
      "display_name": "Python 3"
    },
    "language_info": {
      "name": "python"
    }
  },
  "cells": [
    {
      "cell_type": "markdown",
      "source": [
        "# Predicting Game Success for Nintendo"
      ],
      "metadata": {
        "id": "qV3nqg4M8twN"
      }
    },
    {
      "cell_type": "markdown",
      "source": [
        "#### Elliot Shabram, Alexander Ventura, Yulisa Ayala-Garcia\n",
        "#### 4/27/2023\n",
        "\n"
      ],
      "metadata": {
        "id": "iK5G9e9h7f0H"
      }
    },
    {
      "cell_type": "markdown",
      "source": [
        "## Introduction"
      ],
      "metadata": {
        "id": "dhSmY5677flq"
      }
    },
    {
      "cell_type": "markdown",
      "source": [
        "We have chosen to explore the Video Game Sales Dataset, a collection of price and ratings data scraped from VGChartz. Our question is whether we can produce a decent machine learning (ML) model for predicting prices of newly released Nintendo games to see whether they might be successful or not.\n",
        "\n",
        "This dataset was obtained from this link on 05/04/2023:\n",
        "https://www.kaggle.com/datasets/sidtwr/videogames-sales-dataset?select=PS4_GamesSales.csv"
      ],
      "metadata": {
        "id": "-agNkOJJTBLl"
      }
    },
    {
      "cell_type": "markdown",
      "source": [
        "## Read the data"
      ],
      "metadata": {
        "id": "Uye00KRt7fiq"
      }
    },
    {
      "cell_type": "code",
      "execution_count": 670,
      "metadata": {
        "id": "fdf3ed81"
      },
      "outputs": [],
      "source": [
        "import numpy as np\n",
        "import pandas as pd\n",
        "\n",
        "from sklearn.preprocessing import StandardScaler, PolynomialFeatures\n",
        "from sklearn.model_selection import cross_val_score, cross_val_predict, train_test_split, learning_curve\n",
        "from sklearn.neighbors import KNeighborsClassifier, KNeighborsRegressor\n",
        "from sklearn.linear_model import LogisticRegression\n",
        "from sklearn.compose import ColumnTransformer\n",
        "from sklearn.metrics import confusion_matrix\n",
        "from sklearn.model_selection import cross_val_predict, GridSearchCV, RandomizedSearchCV\n",
        "from sklearn.ensemble import RandomForestClassifier\n",
        "from scipy.stats import randint\n",
        "from sklearn.metrics import accuracy_score\n",
        "from sklearn.feature_selection import SelectKBest, mutual_info_classif\n",
        "import warnings\n",
        "import matplotlib.pyplot as plt\n",
        "import seaborn as sns\n",
        "pd.options.mode.chained_assignment = None  # default='warn'\n",
        "warnings.filterwarnings(\"ignore\", category=UserWarning)\n",
        "\n",
        "\n",
        "df = pd.read_csv(\"https://raw.githubusercontent.com/Alexander-Ventura/Game_Sales/main/Video_Games_Sales_as_at_22_Dec_2016.csv\")"
      ]
    },
    {
      "cell_type": "markdown",
      "source": [
        "## Functions"
      ],
      "metadata": {
        "id": "-4bzHm0Vftne"
      }
    },
    {
      "cell_type": "code",
      "source": [
        "def forward_selection_classif(clf, X, y, threshold=None, num_folds=5):\n",
        "    \"\"\" Perform forward feature selection with the given classifier.\n",
        "    Threshold is the improvement in accuracy for the selection\n",
        "    process to stop.\n",
        "    threshold = None causes all features to be selected.\n",
        "    \"\"\"\n",
        "\n",
        "    remaining = list(range(X.shape[1]))\n",
        "    selected = []\n",
        "    accuracies = []\n",
        "    previous_best = 0.0\n",
        "    while len(remaining) > 0:\n",
        "        best_i, best_accuracy = 0, 0.0\n",
        "        for i in remaining:\n",
        "            accuracy = cross_val_score(clf, X[:,selected+[i]], y, cv=num_folds).mean()\n",
        "            if accuracy > best_accuracy:\n",
        "                best_i, best_accuracy = i, accuracy\n",
        "\n",
        "        if (threshold is not None) and (best_accuracy - previous_best) < threshold:\n",
        "            break\n",
        "        selected.append(best_i)\n",
        "        accuracies.append(best_accuracy)\n",
        "        if best_i in remaining:\n",
        "          remaining.remove(best_i)\n",
        "        previous_best = best_accuracy\n",
        "\n",
        "    return np.array(selected), accuracies"
      ],
      "metadata": {
        "id": "gICCMIRdfrcF"
      },
      "execution_count": 671,
      "outputs": []
    },
    {
      "cell_type": "markdown",
      "source": [
        "Obtained from Dr.Bruns data-science-report-structure document"
      ],
      "metadata": {
        "id": "GpLmc63pi8JN"
      }
    },
    {
      "cell_type": "code",
      "source": [
        "def print_conf_mtx(y_true, y_pred, classes=None):\n",
        "    \"\"\" Print a confusion matrix (two classes only). \"\"\"\n",
        "\n",
        "    if not classes:\n",
        "        classes = ['neg', 'pos']\n",
        "\n",
        "    # formatting\n",
        "    max_class_len = max([len(s) for s in classes])\n",
        "    m = max(max_class_len, len('predicted')//2 + 1)\n",
        "    n = max(len('actual')+1, max_class_len)\n",
        "    left   \t= '{:<10s}'.replace('10',str(n))\n",
        "    right  \t= '{:>10s}'.replace('10',str(m))\n",
        "    big_center = '{:^20s}'.replace('20',str(m*2))\n",
        "\n",
        "    cm = confusion_matrix(y_test, y_pred)\n",
        "    print((left+big_center).format('', 'predicted'))\n",
        "    print((left+right+right).format('actual', classes[0], classes[1]))\n",
        "    print((left+right+right).format(classes[0], str(cm[0,0]), str(cm[0,1])))\n",
        "    print((left+right+right).format(classes[1], str(cm[1,0]), str(cm[1,1])))"
      ],
      "metadata": {
        "id": "3Z8-X6uXi7LS"
      },
      "execution_count": 672,
      "outputs": []
    },
    {
      "cell_type": "markdown",
      "source": [
        "## Initial data exploration"
      ],
      "metadata": {
        "id": "Tc36ZqKV7feN"
      }
    },
    {
      "cell_type": "markdown",
      "source": [
        "Firtst we'll look at some basic information about the dataframe."
      ],
      "metadata": {
        "id": "Bf-5bPJCT6rj"
      }
    },
    {
      "cell_type": "code",
      "source": [
        "df.info()\n",
        "print(f'\\nShape of df: {df.shape}')"
      ],
      "metadata": {
        "id": "1_YUCb629QXw",
        "colab": {
          "base_uri": "https://localhost:8080/"
        },
        "outputId": "a7b61768-f277-40d5-ac6c-5560c655d695"
      },
      "execution_count": 673,
      "outputs": [
        {
          "output_type": "stream",
          "name": "stdout",
          "text": [
            "<class 'pandas.core.frame.DataFrame'>\n",
            "RangeIndex: 16719 entries, 0 to 16718\n",
            "Data columns (total 16 columns):\n",
            " #   Column           Non-Null Count  Dtype  \n",
            "---  ------           --------------  -----  \n",
            " 0   Name             16717 non-null  object \n",
            " 1   Platform         16719 non-null  object \n",
            " 2   Year_of_Release  16450 non-null  float64\n",
            " 3   Genre            16717 non-null  object \n",
            " 4   Publisher        16665 non-null  object \n",
            " 5   NA_Sales         16719 non-null  float64\n",
            " 6   EU_Sales         16719 non-null  float64\n",
            " 7   JP_Sales         16719 non-null  float64\n",
            " 8   Other_Sales      16719 non-null  float64\n",
            " 9   Global_Sales     16719 non-null  float64\n",
            " 10  Critic_Score     8137 non-null   float64\n",
            " 11  Critic_Count     8137 non-null   float64\n",
            " 12  User_Score       7590 non-null   float64\n",
            " 13  User_Count       7590 non-null   float64\n",
            " 14  Developer        10096 non-null  object \n",
            " 15  Rating           9950 non-null   object \n",
            "dtypes: float64(10), object(6)\n",
            "memory usage: 2.0+ MB\n",
            "\n",
            "Shape of df: (16719, 16)\n"
          ]
        }
      ]
    },
    {
      "cell_type": "markdown",
      "source": [
        "The data set is reasonably big at 16719."
      ],
      "metadata": {
        "id": "QPy98ZIc2crF"
      }
    },
    {
      "cell_type": "markdown",
      "source": [
        "Let's take a look at some variable in the data set. We'll take a snapshot of the first 5 rows."
      ],
      "metadata": {
        "id": "OwKAVP2-RGPs"
      }
    },
    {
      "cell_type": "code",
      "source": [
        "df.head(5)"
      ],
      "metadata": {
        "colab": {
          "base_uri": "https://localhost:8080/",
          "height": 296
        },
        "id": "6xA5GuGfUsVG",
        "outputId": "e0a2f312-6803-4385-b7e5-6f63d431fb96"
      },
      "execution_count": 674,
      "outputs": [
        {
          "output_type": "execute_result",
          "data": {
            "text/plain": [
              "                       Name Platform  Year_of_Release         Genre Publisher  \\\n",
              "0                Wii Sports      Wii           2006.0        Sports  Nintendo   \n",
              "1         Super Mario Bros.      NES           1985.0      Platform  Nintendo   \n",
              "2            Mario Kart Wii      Wii           2008.0        Racing  Nintendo   \n",
              "3         Wii Sports Resort      Wii           2009.0        Sports  Nintendo   \n",
              "4  Pokemon Red/Pokemon Blue       GB           1996.0  Role-Playing  Nintendo   \n",
              "\n",
              "   NA_Sales  EU_Sales  JP_Sales  Other_Sales  Global_Sales  Critic_Score  \\\n",
              "0     41.36     28.96      3.77         8.45         82.53          76.0   \n",
              "1     29.08      3.58      6.81         0.77         40.24           NaN   \n",
              "2     15.68     12.76      3.79         3.29         35.52          82.0   \n",
              "3     15.61     10.93      3.28         2.95         32.77          80.0   \n",
              "4     11.27      8.89     10.22         1.00         31.37           NaN   \n",
              "\n",
              "   Critic_Count  User_Score  User_Count Developer Rating  \n",
              "0          51.0         8.0       322.0  Nintendo      E  \n",
              "1           NaN         NaN         NaN       NaN    NaN  \n",
              "2          73.0         8.3       709.0  Nintendo      E  \n",
              "3          73.0         8.0       192.0  Nintendo      E  \n",
              "4           NaN         NaN         NaN       NaN    NaN  "
            ],
            "text/html": [
              "\n",
              "  <div id=\"df-c671cb71-b7b4-4345-9cc3-5985332e7e68\" class=\"colab-df-container\">\n",
              "    <div>\n",
              "<style scoped>\n",
              "    .dataframe tbody tr th:only-of-type {\n",
              "        vertical-align: middle;\n",
              "    }\n",
              "\n",
              "    .dataframe tbody tr th {\n",
              "        vertical-align: top;\n",
              "    }\n",
              "\n",
              "    .dataframe thead th {\n",
              "        text-align: right;\n",
              "    }\n",
              "</style>\n",
              "<table border=\"1\" class=\"dataframe\">\n",
              "  <thead>\n",
              "    <tr style=\"text-align: right;\">\n",
              "      <th></th>\n",
              "      <th>Name</th>\n",
              "      <th>Platform</th>\n",
              "      <th>Year_of_Release</th>\n",
              "      <th>Genre</th>\n",
              "      <th>Publisher</th>\n",
              "      <th>NA_Sales</th>\n",
              "      <th>EU_Sales</th>\n",
              "      <th>JP_Sales</th>\n",
              "      <th>Other_Sales</th>\n",
              "      <th>Global_Sales</th>\n",
              "      <th>Critic_Score</th>\n",
              "      <th>Critic_Count</th>\n",
              "      <th>User_Score</th>\n",
              "      <th>User_Count</th>\n",
              "      <th>Developer</th>\n",
              "      <th>Rating</th>\n",
              "    </tr>\n",
              "  </thead>\n",
              "  <tbody>\n",
              "    <tr>\n",
              "      <th>0</th>\n",
              "      <td>Wii Sports</td>\n",
              "      <td>Wii</td>\n",
              "      <td>2006.0</td>\n",
              "      <td>Sports</td>\n",
              "      <td>Nintendo</td>\n",
              "      <td>41.36</td>\n",
              "      <td>28.96</td>\n",
              "      <td>3.77</td>\n",
              "      <td>8.45</td>\n",
              "      <td>82.53</td>\n",
              "      <td>76.0</td>\n",
              "      <td>51.0</td>\n",
              "      <td>8.0</td>\n",
              "      <td>322.0</td>\n",
              "      <td>Nintendo</td>\n",
              "      <td>E</td>\n",
              "    </tr>\n",
              "    <tr>\n",
              "      <th>1</th>\n",
              "      <td>Super Mario Bros.</td>\n",
              "      <td>NES</td>\n",
              "      <td>1985.0</td>\n",
              "      <td>Platform</td>\n",
              "      <td>Nintendo</td>\n",
              "      <td>29.08</td>\n",
              "      <td>3.58</td>\n",
              "      <td>6.81</td>\n",
              "      <td>0.77</td>\n",
              "      <td>40.24</td>\n",
              "      <td>NaN</td>\n",
              "      <td>NaN</td>\n",
              "      <td>NaN</td>\n",
              "      <td>NaN</td>\n",
              "      <td>NaN</td>\n",
              "      <td>NaN</td>\n",
              "    </tr>\n",
              "    <tr>\n",
              "      <th>2</th>\n",
              "      <td>Mario Kart Wii</td>\n",
              "      <td>Wii</td>\n",
              "      <td>2008.0</td>\n",
              "      <td>Racing</td>\n",
              "      <td>Nintendo</td>\n",
              "      <td>15.68</td>\n",
              "      <td>12.76</td>\n",
              "      <td>3.79</td>\n",
              "      <td>3.29</td>\n",
              "      <td>35.52</td>\n",
              "      <td>82.0</td>\n",
              "      <td>73.0</td>\n",
              "      <td>8.3</td>\n",
              "      <td>709.0</td>\n",
              "      <td>Nintendo</td>\n",
              "      <td>E</td>\n",
              "    </tr>\n",
              "    <tr>\n",
              "      <th>3</th>\n",
              "      <td>Wii Sports Resort</td>\n",
              "      <td>Wii</td>\n",
              "      <td>2009.0</td>\n",
              "      <td>Sports</td>\n",
              "      <td>Nintendo</td>\n",
              "      <td>15.61</td>\n",
              "      <td>10.93</td>\n",
              "      <td>3.28</td>\n",
              "      <td>2.95</td>\n",
              "      <td>32.77</td>\n",
              "      <td>80.0</td>\n",
              "      <td>73.0</td>\n",
              "      <td>8.0</td>\n",
              "      <td>192.0</td>\n",
              "      <td>Nintendo</td>\n",
              "      <td>E</td>\n",
              "    </tr>\n",
              "    <tr>\n",
              "      <th>4</th>\n",
              "      <td>Pokemon Red/Pokemon Blue</td>\n",
              "      <td>GB</td>\n",
              "      <td>1996.0</td>\n",
              "      <td>Role-Playing</td>\n",
              "      <td>Nintendo</td>\n",
              "      <td>11.27</td>\n",
              "      <td>8.89</td>\n",
              "      <td>10.22</td>\n",
              "      <td>1.00</td>\n",
              "      <td>31.37</td>\n",
              "      <td>NaN</td>\n",
              "      <td>NaN</td>\n",
              "      <td>NaN</td>\n",
              "      <td>NaN</td>\n",
              "      <td>NaN</td>\n",
              "      <td>NaN</td>\n",
              "    </tr>\n",
              "  </tbody>\n",
              "</table>\n",
              "</div>\n",
              "    <div class=\"colab-df-buttons\">\n",
              "\n",
              "  <div class=\"colab-df-container\">\n",
              "    <button class=\"colab-df-convert\" onclick=\"convertToInteractive('df-c671cb71-b7b4-4345-9cc3-5985332e7e68')\"\n",
              "            title=\"Convert this dataframe to an interactive table.\"\n",
              "            style=\"display:none;\">\n",
              "\n",
              "  <svg xmlns=\"http://www.w3.org/2000/svg\" height=\"24px\" viewBox=\"0 -960 960 960\">\n",
              "    <path d=\"M120-120v-720h720v720H120Zm60-500h600v-160H180v160Zm220 220h160v-160H400v160Zm0 220h160v-160H400v160ZM180-400h160v-160H180v160Zm440 0h160v-160H620v160ZM180-180h160v-160H180v160Zm440 0h160v-160H620v160Z\"/>\n",
              "  </svg>\n",
              "    </button>\n",
              "\n",
              "  <style>\n",
              "    .colab-df-container {\n",
              "      display:flex;\n",
              "      gap: 12px;\n",
              "    }\n",
              "\n",
              "    .colab-df-convert {\n",
              "      background-color: #E8F0FE;\n",
              "      border: none;\n",
              "      border-radius: 50%;\n",
              "      cursor: pointer;\n",
              "      display: none;\n",
              "      fill: #1967D2;\n",
              "      height: 32px;\n",
              "      padding: 0 0 0 0;\n",
              "      width: 32px;\n",
              "    }\n",
              "\n",
              "    .colab-df-convert:hover {\n",
              "      background-color: #E2EBFA;\n",
              "      box-shadow: 0px 1px 2px rgba(60, 64, 67, 0.3), 0px 1px 3px 1px rgba(60, 64, 67, 0.15);\n",
              "      fill: #174EA6;\n",
              "    }\n",
              "\n",
              "    .colab-df-buttons div {\n",
              "      margin-bottom: 4px;\n",
              "    }\n",
              "\n",
              "    [theme=dark] .colab-df-convert {\n",
              "      background-color: #3B4455;\n",
              "      fill: #D2E3FC;\n",
              "    }\n",
              "\n",
              "    [theme=dark] .colab-df-convert:hover {\n",
              "      background-color: #434B5C;\n",
              "      box-shadow: 0px 1px 3px 1px rgba(0, 0, 0, 0.15);\n",
              "      filter: drop-shadow(0px 1px 2px rgba(0, 0, 0, 0.3));\n",
              "      fill: #FFFFFF;\n",
              "    }\n",
              "  </style>\n",
              "\n",
              "    <script>\n",
              "      const buttonEl =\n",
              "        document.querySelector('#df-c671cb71-b7b4-4345-9cc3-5985332e7e68 button.colab-df-convert');\n",
              "      buttonEl.style.display =\n",
              "        google.colab.kernel.accessAllowed ? 'block' : 'none';\n",
              "\n",
              "      async function convertToInteractive(key) {\n",
              "        const element = document.querySelector('#df-c671cb71-b7b4-4345-9cc3-5985332e7e68');\n",
              "        const dataTable =\n",
              "          await google.colab.kernel.invokeFunction('convertToInteractive',\n",
              "                                                    [key], {});\n",
              "        if (!dataTable) return;\n",
              "\n",
              "        const docLinkHtml = 'Like what you see? Visit the ' +\n",
              "          '<a target=\"_blank\" href=https://colab.research.google.com/notebooks/data_table.ipynb>data table notebook</a>'\n",
              "          + ' to learn more about interactive tables.';\n",
              "        element.innerHTML = '';\n",
              "        dataTable['output_type'] = 'display_data';\n",
              "        await google.colab.output.renderOutput(dataTable, element);\n",
              "        const docLink = document.createElement('div');\n",
              "        docLink.innerHTML = docLinkHtml;\n",
              "        element.appendChild(docLink);\n",
              "      }\n",
              "    </script>\n",
              "  </div>\n",
              "\n",
              "\n",
              "<div id=\"df-5d0b5486-79bb-462c-b7ab-5ff1f08ef56e\">\n",
              "  <button class=\"colab-df-quickchart\" onclick=\"quickchart('df-5d0b5486-79bb-462c-b7ab-5ff1f08ef56e')\"\n",
              "            title=\"Suggest charts\"\n",
              "            style=\"display:none;\">\n",
              "\n",
              "<svg xmlns=\"http://www.w3.org/2000/svg\" height=\"24px\"viewBox=\"0 0 24 24\"\n",
              "     width=\"24px\">\n",
              "    <g>\n",
              "        <path d=\"M19 3H5c-1.1 0-2 .9-2 2v14c0 1.1.9 2 2 2h14c1.1 0 2-.9 2-2V5c0-1.1-.9-2-2-2zM9 17H7v-7h2v7zm4 0h-2V7h2v10zm4 0h-2v-4h2v4z\"/>\n",
              "    </g>\n",
              "</svg>\n",
              "  </button>\n",
              "\n",
              "<style>\n",
              "  .colab-df-quickchart {\n",
              "      --bg-color: #E8F0FE;\n",
              "      --fill-color: #1967D2;\n",
              "      --hover-bg-color: #E2EBFA;\n",
              "      --hover-fill-color: #174EA6;\n",
              "      --disabled-fill-color: #AAA;\n",
              "      --disabled-bg-color: #DDD;\n",
              "  }\n",
              "\n",
              "  [theme=dark] .colab-df-quickchart {\n",
              "      --bg-color: #3B4455;\n",
              "      --fill-color: #D2E3FC;\n",
              "      --hover-bg-color: #434B5C;\n",
              "      --hover-fill-color: #FFFFFF;\n",
              "      --disabled-bg-color: #3B4455;\n",
              "      --disabled-fill-color: #666;\n",
              "  }\n",
              "\n",
              "  .colab-df-quickchart {\n",
              "    background-color: var(--bg-color);\n",
              "    border: none;\n",
              "    border-radius: 50%;\n",
              "    cursor: pointer;\n",
              "    display: none;\n",
              "    fill: var(--fill-color);\n",
              "    height: 32px;\n",
              "    padding: 0;\n",
              "    width: 32px;\n",
              "  }\n",
              "\n",
              "  .colab-df-quickchart:hover {\n",
              "    background-color: var(--hover-bg-color);\n",
              "    box-shadow: 0 1px 2px rgba(60, 64, 67, 0.3), 0 1px 3px 1px rgba(60, 64, 67, 0.15);\n",
              "    fill: var(--button-hover-fill-color);\n",
              "  }\n",
              "\n",
              "  .colab-df-quickchart-complete:disabled,\n",
              "  .colab-df-quickchart-complete:disabled:hover {\n",
              "    background-color: var(--disabled-bg-color);\n",
              "    fill: var(--disabled-fill-color);\n",
              "    box-shadow: none;\n",
              "  }\n",
              "\n",
              "  .colab-df-spinner {\n",
              "    border: 2px solid var(--fill-color);\n",
              "    border-color: transparent;\n",
              "    border-bottom-color: var(--fill-color);\n",
              "    animation:\n",
              "      spin 1s steps(1) infinite;\n",
              "  }\n",
              "\n",
              "  @keyframes spin {\n",
              "    0% {\n",
              "      border-color: transparent;\n",
              "      border-bottom-color: var(--fill-color);\n",
              "      border-left-color: var(--fill-color);\n",
              "    }\n",
              "    20% {\n",
              "      border-color: transparent;\n",
              "      border-left-color: var(--fill-color);\n",
              "      border-top-color: var(--fill-color);\n",
              "    }\n",
              "    30% {\n",
              "      border-color: transparent;\n",
              "      border-left-color: var(--fill-color);\n",
              "      border-top-color: var(--fill-color);\n",
              "      border-right-color: var(--fill-color);\n",
              "    }\n",
              "    40% {\n",
              "      border-color: transparent;\n",
              "      border-right-color: var(--fill-color);\n",
              "      border-top-color: var(--fill-color);\n",
              "    }\n",
              "    60% {\n",
              "      border-color: transparent;\n",
              "      border-right-color: var(--fill-color);\n",
              "    }\n",
              "    80% {\n",
              "      border-color: transparent;\n",
              "      border-right-color: var(--fill-color);\n",
              "      border-bottom-color: var(--fill-color);\n",
              "    }\n",
              "    90% {\n",
              "      border-color: transparent;\n",
              "      border-bottom-color: var(--fill-color);\n",
              "    }\n",
              "  }\n",
              "</style>\n",
              "\n",
              "  <script>\n",
              "    async function quickchart(key) {\n",
              "      const quickchartButtonEl =\n",
              "        document.querySelector('#' + key + ' button');\n",
              "      quickchartButtonEl.disabled = true;  // To prevent multiple clicks.\n",
              "      quickchartButtonEl.classList.add('colab-df-spinner');\n",
              "      try {\n",
              "        const charts = await google.colab.kernel.invokeFunction(\n",
              "            'suggestCharts', [key], {});\n",
              "      } catch (error) {\n",
              "        console.error('Error during call to suggestCharts:', error);\n",
              "      }\n",
              "      quickchartButtonEl.classList.remove('colab-df-spinner');\n",
              "      quickchartButtonEl.classList.add('colab-df-quickchart-complete');\n",
              "    }\n",
              "    (() => {\n",
              "      let quickchartButtonEl =\n",
              "        document.querySelector('#df-5d0b5486-79bb-462c-b7ab-5ff1f08ef56e button');\n",
              "      quickchartButtonEl.style.display =\n",
              "        google.colab.kernel.accessAllowed ? 'block' : 'none';\n",
              "    })();\n",
              "  </script>\n",
              "</div>\n",
              "    </div>\n",
              "  </div>\n"
            ]
          },
          "metadata": {},
          "execution_count": 674
        }
      ]
    },
    {
      "cell_type": "markdown",
      "source": [
        "Nintendo dominates the first few rows, and we can also see that Nintendo is it's own developer in some cases. Publisher is probably pretty general, but the platform column looks like it will give us many options to draw connections from, so perhaps that will be a more important column in our ML model. Also, we can already see quite a few NaN values, so we'll want to look into that further."
      ],
      "metadata": {
        "id": "aQG5yfv2VCiK"
      }
    },
    {
      "cell_type": "markdown",
      "source": [
        "We'd like to know how much of the data we can actually use. Lets take a look at some of the missing data to see if there is anything significant that may require dealing with. To see this, we'll print out the percentages of each column that are NaN values."
      ],
      "metadata": {
        "id": "sZvwdV-AY8Id"
      }
    },
    {
      "cell_type": "code",
      "source": [
        "(df.isna().sum() / df.shape[0]).round(3)"
      ],
      "metadata": {
        "id": "eX9HYGfb4GQw",
        "colab": {
          "base_uri": "https://localhost:8080/"
        },
        "outputId": "af1cc2af-562c-4ef3-c9ff-71d5c10db3c2"
      },
      "execution_count": 675,
      "outputs": [
        {
          "output_type": "execute_result",
          "data": {
            "text/plain": [
              "Name               0.000\n",
              "Platform           0.000\n",
              "Year_of_Release    0.016\n",
              "Genre              0.000\n",
              "Publisher          0.003\n",
              "NA_Sales           0.000\n",
              "EU_Sales           0.000\n",
              "JP_Sales           0.000\n",
              "Other_Sales        0.000\n",
              "Global_Sales       0.000\n",
              "Critic_Score       0.513\n",
              "Critic_Count       0.513\n",
              "User_Score         0.546\n",
              "User_Count         0.546\n",
              "Developer          0.396\n",
              "Rating             0.405\n",
              "dtype: float64"
            ]
          },
          "metadata": {},
          "execution_count": 675
        }
      ]
    },
    {
      "cell_type": "markdown",
      "source": [
        "It appears that some columns have around 50% missing data, which is not good. Critic's and user's scores wouldn't make sense to use for predicting sales a video game will make because scoring comes after a game has made sales and those numbers go hand in hand. For the developer and Rating columns,we'll have to replace the NaN values with  something so that we can utilize them."
      ],
      "metadata": {
        "id": "_sLsI66hZz_7"
      }
    },
    {
      "cell_type": "markdown",
      "source": [
        "Lets take a look at the developer category."
      ],
      "metadata": {
        "id": "PChfnuPgctwW"
      }
    },
    {
      "cell_type": "code",
      "source": [
        "nintendo = (df['Developer'] == 'Nintendo').sum() / df['Developer'].shape[0]\n",
        "print(f'Nintendo     {nintendo:.3g}\\n')\n",
        "print('Top 5:')\n",
        "df['Developer'].value_counts(normalize=True).head().round(3)"
      ],
      "metadata": {
        "colab": {
          "base_uri": "https://localhost:8080/"
        },
        "id": "uSKa0rXkcsWn",
        "outputId": "75cfac19-b1f0-4bec-9c07-28e885801d81"
      },
      "execution_count": 676,
      "outputs": [
        {
          "output_type": "stream",
          "name": "stdout",
          "text": [
            "Nintendo     0.00431\n",
            "\n",
            "Top 5:\n"
          ]
        },
        {
          "output_type": "execute_result",
          "data": {
            "text/plain": [
              "Ubisoft      0.020\n",
              "EA Sports    0.017\n",
              "EA Canada    0.017\n",
              "Konami       0.016\n",
              "Capcom       0.014\n",
              "Name: Developer, dtype: float64"
            ]
          },
          "metadata": {},
          "execution_count": 676
        }
      ]
    },
    {
      "cell_type": "markdown",
      "source": [
        "Interestingly, Nintendo is only it's own developer for a very small percentage of all games. Though it may sound similar to publisher at first, it seems quite different, thus it should be a good predictor for our ML model."
      ],
      "metadata": {
        "id": "2T2Cnwvbd4-C"
      }
    },
    {
      "cell_type": "markdown",
      "source": [
        "Since we want to predict success for Nintendo games, lets look at the median sales of a Nintendo game for any given year."
      ],
      "metadata": {
        "id": "5SM0yQrJYJhE"
      }
    },
    {
      "cell_type": "code",
      "source": [
        "pub_sales = df.groupby('Publisher')['Global_Sales'].median()\n",
        "med = pub_sales[pub_sales.index == 'Nintendo'].sum()\n",
        "print(f'Median sales for Nintendo games: {med:.3g} million')"
      ],
      "metadata": {
        "colab": {
          "base_uri": "https://localhost:8080/"
        },
        "id": "dFXzFX-zYJKr",
        "outputId": "2da588e0-67c0-4e5d-f030-f7623b5a7c4e"
      },
      "execution_count": 677,
      "outputs": [
        {
          "output_type": "stream",
          "name": "stdout",
          "text": [
            "Median sales for Nintendo games: 0.89 million\n"
          ]
        }
      ]
    },
    {
      "cell_type": "markdown",
      "source": [
        "It looks like right around 1 million dollars might be a good decision boundary for success for a company like Nintendo."
      ],
      "metadata": {
        "id": "kNrwAXYrYkoO"
      }
    },
    {
      "cell_type": "markdown",
      "source": [
        "## Data cleaning and preprocessing"
      ],
      "metadata": {
        "id": "Sa6fwveZ7fXC"
      }
    },
    {
      "cell_type": "markdown",
      "source": [
        "We'll drop the columns that would not be logical to use outright, and print the new columns as a sanity check."
      ],
      "metadata": {
        "id": "H2QiTrgFzaNk"
      }
    },
    {
      "cell_type": "code",
      "source": [
        "df.drop(['Critic_Score', 'Critic_Count', 'User_Score', 'User_Count'], axis=1, inplace=True)\n",
        "df.columns"
      ],
      "metadata": {
        "id": "DB32dwoZ9hPS",
        "colab": {
          "base_uri": "https://localhost:8080/"
        },
        "outputId": "d49c30d3-cc74-4c39-dd8f-5eeff7eab3fd"
      },
      "execution_count": 678,
      "outputs": [
        {
          "output_type": "execute_result",
          "data": {
            "text/plain": [
              "Index(['Name', 'Platform', 'Year_of_Release', 'Genre', 'Publisher', 'NA_Sales',\n",
              "       'EU_Sales', 'JP_Sales', 'Other_Sales', 'Global_Sales', 'Developer',\n",
              "       'Rating'],\n",
              "      dtype='object')"
            ]
          },
          "metadata": {},
          "execution_count": 678
        }
      ]
    },
    {
      "cell_type": "markdown",
      "source": [
        "We'll then want to keep the rows that are Nintendo. From this point we can get rid of any remaining rows that contain NaN values. We'll also convert the years to integers now that there aren't any missing values. We will also change the name of Year_of_Release for simplicity and for columns that have many variables we'll group smaller ones into other categories."
      ],
      "metadata": {
        "id": "ORAmLzaKcKzr"
      }
    },
    {
      "cell_type": "code",
      "source": [
        "# replace na values for columns with large amounts of NaN values\n",
        "df['Rating'].fillna('NA', inplace=True)\n",
        "df['Developer'].fillna('NA', inplace=True)\n",
        "\n",
        "# change name and datatype for simplicity\n",
        "df = df.rename(columns={'Year_of_Release': 'Year'})\n",
        "df.dropna(inplace=True)\n",
        "df['Year'] = df['Year'].astype(int)\n",
        "\n",
        "# Make 'Other' categories to simplify variables\n",
        "counts = df['Platform'].value_counts()\n",
        "other = counts[counts < 100].index.tolist()\n",
        "df['Platform'] = df['Platform'].replace(other, 'Other')\n",
        "\n",
        "counts = df['Developer'].value_counts()\n",
        "other = counts[counts < 40]. index.tolist()\n",
        "df['Developer'].replace(other, 'Other', inplace=True)\n",
        "\n",
        "# only look at Nintendo games\n",
        "df = df[df['Publisher'] == 'Nintendo']\n",
        "\n",
        "print(f'Total NaN values in DataFrame df: {df.isna().sum().sum()}')\n",
        "print(f'\\nNew shape of DataFrame df: {df.shape}')"
      ],
      "metadata": {
        "id": "52V0XlJJcOMF",
        "colab": {
          "base_uri": "https://localhost:8080/"
        },
        "outputId": "50949e31-caa6-4835-f79b-cbee420960e4"
      },
      "execution_count": 679,
      "outputs": [
        {
          "output_type": "stream",
          "name": "stdout",
          "text": [
            "Total NaN values in DataFrame df: 0\n",
            "\n",
            "New shape of DataFrame df: (700, 12)\n"
          ]
        }
      ]
    },
    {
      "cell_type": "markdown",
      "source": [
        "Success! There isn't a huge amount of data, but it should be sufficient."
      ],
      "metadata": {
        "id": "SK4AZIjpe0fK"
      }
    },
    {
      "cell_type": "markdown",
      "source": [
        "## Exploration and visualization"
      ],
      "metadata": {
        "id": "5fwDgctW7fKj"
      }
    },
    {
      "cell_type": "markdown",
      "source": [
        "We'd like to visualize global sales per year as well as counts for new releases."
      ],
      "metadata": {
        "id": "Dqyc737vfEEp"
      }
    },
    {
      "cell_type": "code",
      "execution_count": 680,
      "metadata": {
        "id": "V7j81cTZ7dyl",
        "colab": {
          "base_uri": "https://localhost:8080/",
          "height": 410
        },
        "outputId": "a1d10215-f415-4b7a-e051-b47ef7d47893"
      },
      "outputs": [
        {
          "output_type": "display_data",
          "data": {
            "text/plain": [
              "<Figure size 1200x400 with 2 Axes>"
            ],
            "image/png": "[encoded data removed]"
          },
          "metadata": {}
        }
      ],
      "source": [
        "fig, (plt1, plt2) = plt.subplots(ncols=2, figsize=(12, 4))\n",
        "\n",
        "sales = df.groupby('Year')['Global_Sales'].sum()\n",
        "plt1.bar(x=sales.index, height=sales.values)\n",
        "plt1.set_title('Global game sales per year for Nintendo')\n",
        "plt1.set_xlabel('Year')\n",
        "plt1.set_ylabel('Global Sales (millions)')\n",
        "\n",
        "counts = df['Year'].value_counts().sort_index()\n",
        "plt2.bar(x=counts.index, height=counts.values)\n",
        "plt2.set_title('New releases per year for Nintendo')\n",
        "plt2.set_xlabel('Year')\n",
        "plt2.set_ylabel('Counts');"
      ]
    },
    {
      "cell_type": "markdown",
      "source": [
        "Nintendo appears to have been making quite a bit of money, peaking just before the 2008 finacial crisis, which probably explains the steep decline in profits after that point. The number of new releases corresponds with counts, but the general up and down trend may make it more difficult to predict sales, given the volitility and inconsistency of sales for any given year."
      ],
      "metadata": {
        "id": "ICX1_i4clnzj"
      }
    },
    {
      "cell_type": "markdown",
      "source": [
        "Next we will will look at the platform variable to see if we can find any patterns. Just like the previous plots, we'll compare the global sales per platform to the number of new releases per platform."
      ],
      "metadata": {
        "id": "RPybpOsF0_YN"
      }
    },
    {
      "cell_type": "code",
      "source": [
        "fig, (plt1, plt2) = plt.subplots(ncols=2, figsize=(12, 4))\n",
        "\n",
        "sales = df.groupby('Platform')['Global_Sales'].sum()\n",
        "plt1.bar(x=sales.index, height=sales.values)\n",
        "plt1.set_title('Global game sales per platform')\n",
        "plt1.set_xlabel('Platform')\n",
        "plt1.set_ylabel('Global Sales (millions)')\n",
        "\n",
        "counts = df['Platform'].value_counts().sort_index()\n",
        "plt2.bar(x=counts.index, height=counts.values)\n",
        "plt2.set_title('New releases per platform')\n",
        "plt2.set_xlabel('Platform')\n",
        "plt2.set_ylabel('Counts');"
      ],
      "metadata": {
        "colab": {
          "base_uri": "https://localhost:8080/",
          "height": 410
        },
        "id": "BhzfavqywRdL",
        "outputId": "29a62266-693c-43e6-dbf9-cfa4bf5fae4d"
      },
      "execution_count": 681,
      "outputs": [
        {
          "output_type": "display_data",
          "data": {
            "text/plain": [
              "<Figure size 1200x400 with 2 Axes>"
            ],
            "image/png": "[encoded data removed]"
          },
          "metadata": {}
        }
      ]
    },
    {
      "cell_type": "markdown",
      "source": [
        "There isn't a clear pattern between how many games on a platform and how much money each platform is making relative to others, which may mean that platform doesn't have a clear pattern for the ML model to draw from."
      ],
      "metadata": {
        "id": "ATahWUDU1krn"
      }
    },
    {
      "cell_type": "markdown",
      "source": [
        "Now we look at total sales per genre and rating to see which of the variable might help our model the most."
      ],
      "metadata": {
        "id": "N-ow428CtvHB"
      }
    },
    {
      "cell_type": "code",
      "source": [
        "fig, (plt1, plt2) = plt.subplots(ncols=2, figsize=(12, 4))\n",
        "\n",
        "genre = df.groupby('Genre')['Global_Sales'].sum().sort_values(ascending=True)\n",
        "plt1.barh(y=genre.index, width=genre.values)\n",
        "plt1.set_title('Total global sales by genre')\n",
        "plt1.set_xlabel('Global Sales (millions)')\n",
        "plt1.set_ylabel('Genre')\n",
        "\n",
        "rate = df.groupby('Rating')['Global_Sales'].sum().sort_values(ascending=True)\n",
        "plt2.barh(y=rate.index, width=rate.values)\n",
        "plt2.set_title('Global Sales by Rating');\n",
        "plt2.set_xlabel('Global Sales (millions)')\n",
        "plt2.set_ylabel('Rating');"
      ],
      "metadata": {
        "colab": {
          "base_uri": "https://localhost:8080/",
          "height": 410
        },
        "outputId": "1b4ddeaa-28f8-4d04-d0ca-fa573adc2979",
        "id": "q8R1_pAysqoE"
      },
      "execution_count": 682,
      "outputs": [
        {
          "output_type": "display_data",
          "data": {
            "text/plain": [
              "<Figure size 1200x400 with 2 Axes>"
            ],
            "image/png": "[encoded data removed]"
          },
          "metadata": {}
        }
      ]
    },
    {
      "cell_type": "markdown",
      "source": [
        "The Platform variable (different than the column) and the NA and E ratings are the leading variables for these two categories, and will likely add the most to our ML model.\n",
        "\n"
      ],
      "metadata": {
        "id": "lo-UqpGd_C59"
      }
    },
    {
      "cell_type": "markdown",
      "source": [
        "## Data preparation for machine learning"
      ],
      "metadata": {
        "id": "9s5p8v5K9veU"
      }
    },
    {
      "cell_type": "markdown",
      "source": [
        "Since our median value for global sales was around .9 million, we have chosen 1 million as our pivot point for whether a game is a success or not. We'll split the global sales into two different categorical variables for our target variable."
      ],
      "metadata": {
        "id": "nvZfKq-JvsIY"
      }
    },
    {
      "cell_type": "code",
      "source": [
        "bins = [0.0, 1.0, 100.0]\n",
        "labels = ['<1M', '>1M']\n",
        "df['Global_Sales'] = pd.cut(df['Global_Sales'], bins=bins, labels=labels)"
      ],
      "metadata": {
        "id": "owBosnSNngt5"
      },
      "execution_count": 683,
      "outputs": []
    },
    {
      "cell_type": "markdown",
      "source": [
        "We'll now create dummy variables from the Genre, Platform, Rating, and Developer columns and assign their values to X. We will also select our target variable and run forward feature selection to find the best features. For our algorithm, we have chosen Logistic Regression, which works well for binary classifications, such as ours."
      ],
      "metadata": {
        "id": "2UrrBbFVRRGw"
      }
    },
    {
      "cell_type": "code",
      "source": [
        "var_names = pd.get_dummies(df, columns=['Genre', 'Platform', 'Rating', 'Developer'], drop_first=True)\n",
        "var_names.drop(['Name', 'NA_Sales', 'EU_Sales', 'JP_Sales', 'Other_Sales', 'Global_Sales', 'Year', 'Publisher'], axis=1, inplace=True)\n",
        "\n",
        "df = pd.get_dummies(df, columns=['Genre', 'Platform', 'Rating', 'Developer'], drop_first=True)\n",
        "\n",
        "predictors = list(var_names.columns.values)\n",
        "target = 'Global_Sales'\n",
        "\n",
        "X = df[predictors].values\n",
        "y = df[target].values\n",
        "\n",
        "X_train, X_test, y_train, y_test = train_test_split(X, y, test_size=0.30, random_state=42)\n",
        "\n",
        "clf = LogisticRegression(C=0.07, max_iter=1000, random_state=42)\n",
        "\n",
        "selected, accuracies = forward_selection_classif(clf, X, y, 0.01)\n",
        "print(f'Selected features: {selected}\\n')\n",
        "var_names.columns[selected]"
      ],
      "metadata": {
        "id": "bc43IpgjllIO",
        "colab": {
          "base_uri": "https://localhost:8080/"
        },
        "outputId": "1bc5ffc2-ad70-422d-e8ab-2b6c4be80925"
      },
      "execution_count": 684,
      "outputs": [
        {
          "output_type": "stream",
          "name": "stdout",
          "text": [
            "Selected features: [15 26  3 12]\n",
            "\n"
          ]
        },
        {
          "output_type": "execute_result",
          "data": {
            "text/plain": [
              "Index(['Platform_Other', 'Developer_Nintendo', 'Genre_Platform',\n",
              "       'Platform_GBA'],\n",
              "      dtype='object')"
            ]
          },
          "metadata": {},
          "execution_count": 684
        }
      ]
    },
    {
      "cell_type": "markdown",
      "source": [
        "Our forward feature selection was successful in finding four features that will give our model a better chance of success. Four features is not ideal, but after much trial and error with feature engineering, this was the best we could achieve. In general, the data doesn't seem to correlate well with global sales, which is why we changed our target variable to a categorical one. We do see that Genre_Platform and Platform_Other are two of our features, which might seem an obvious choice given that they were the largest sales variables of their respective columns, but then why pick Platform_GBA and Developer_Nintendo? Clearly, there are deeper connections that are difficult to see."
      ],
      "metadata": {
        "id": "hj8bIUhfpPbR"
      }
    },
    {
      "cell_type": "markdown",
      "source": [
        "## Machine learning"
      ],
      "metadata": {
        "id": "QJfrnNUy90p9"
      }
    },
    {
      "cell_type": "markdown",
      "source": [
        "Now lets train our model with the selected features and the training data.\n",
        "\n"
      ],
      "metadata": {
        "id": "Ho_bmeyI09t7"
      }
    },
    {
      "cell_type": "code",
      "source": [
        "clf.fit(X_train[:, selected], y_train);"
      ],
      "metadata": {
        "id": "ThvHXQPs0dRJ"
      },
      "execution_count": 685,
      "outputs": []
    },
    {
      "cell_type": "markdown",
      "source": [
        "Success."
      ],
      "metadata": {
        "id": "HddqQWuUrXIG"
      }
    },
    {
      "cell_type": "markdown",
      "source": [
        "Let's check if our model has a high bias or high variance problem."
      ],
      "metadata": {
        "id": "PdVD1zkyP5Wc"
      }
    },
    {
      "cell_type": "code",
      "source": [
        "train_sizes, train_scores, test_scores = \\\n",
        "learning_curve(clf, X_train, y_train, cv=5,scoring='accuracy')\n",
        "\n",
        "train_scores_mean = np.mean(train_scores, axis=1)\n",
        "test_scores_mean = np.mean(test_scores, axis=1)\n",
        "\n",
        "plt.plot(train_sizes, train_scores_mean, label='train')\n",
        "plt.plot(train_sizes, test_scores_mean, label='test')\n",
        "plt.xlabel('training set size')\n",
        "plt.ylabel('Accuracy')\n",
        "plt.title('Learning curve, Logistic Regression')\n",
        "plt.legend();"
      ],
      "metadata": {
        "id": "cMZbfzUlyK4v",
        "colab": {
          "base_uri": "https://localhost:8080/",
          "height": 472
        },
        "outputId": "fc058a62-a5b6-449d-edc3-491e71e6d036"
      },
      "execution_count": 686,
      "outputs": [
        {
          "output_type": "display_data",
          "data": {
            "text/plain": [
              "<Figure size 640x480 with 1 Axes>"
            ],
            "image/png": "[encoded data removed]"
          },
          "metadata": {}
        }
      ]
    },
    {
      "cell_type": "markdown",
      "source": [
        "After some more trial and error adjusting the parameters of our classifier, we're satisfied with this learning curve. There is a somewhat large gap between our training and test accuracies, implying a high variance situation. Clearly more data would help us here, but the fit seems to be near optimal for what we have."
      ],
      "metadata": {
        "id": "nqbbzFSDQX8e"
      }
    },
    {
      "cell_type": "markdown",
      "source": [
        "Now lets score our models performance by comparing an accuracy score to a baseline. We'll also throw in a cross validation score to estimate our models performance on independent data, and to use as a check on our other scores.\n"
      ],
      "metadata": {
        "id": "7Sa7DT8fSFqg"
      }
    },
    {
      "cell_type": "code",
      "source": [
        "baseline = (df['Global_Sales'] == '<1M').sum() / df['Global_Sales'].shape[0]\n",
        "print(f'Baseline Accuracy: {baseline:.2g}\\n')\n",
        "\n",
        "score = cross_val_score(clf, X, y, cv=5 ).mean()\n",
        "\n",
        "y_pred = clf.predict(X_test[:, selected])\n",
        "\n",
        "accuracy = accuracy_score(y_test, y_pred)\n",
        "\n",
        "print(f'Cross Validation Score: {score:.3g}\\n')\n",
        "print(f'Accuracy: {accuracy:.3g}')"
      ],
      "metadata": {
        "id": "fduX8GMyHGBi",
        "colab": {
          "base_uri": "https://localhost:8080/"
        },
        "outputId": "0186957f-3ee7-45c3-c71f-e392d90cd57e"
      },
      "execution_count": 687,
      "outputs": [
        {
          "output_type": "stream",
          "name": "stdout",
          "text": [
            "Baseline Accuracy: 0.52\n",
            "\n",
            "Cross Validation Score: 0.664\n",
            "\n",
            "Accuracy: 0.643\n"
          ]
        }
      ]
    },
    {
      "cell_type": "markdown",
      "source": [
        "It appears that our model has improved upon the baseline accuracy by about 12%. That is a very reasonable improvment over simply guessing, and it would seem that our model is successful."
      ],
      "metadata": {
        "id": "Iel4wVnGuuTl"
      }
    },
    {
      "cell_type": "markdown",
      "source": [
        "Lets see the predictions and the actual values side by side with a confusion matrix as a final, more tangible check on our model."
      ],
      "metadata": {
        "id": "n2o3OKwjjPwA"
      }
    },
    {
      "cell_type": "code",
      "source": [
        "print_conf_mtx(y_test, y_pred)"
      ],
      "metadata": {
        "id": "NdSulIPXjQca",
        "colab": {
          "base_uri": "https://localhost:8080/"
        },
        "outputId": "f3473a68-1f58-44a3-8429-0a409f826b5f"
      },
      "execution_count": 688,
      "outputs": [
        {
          "output_type": "stream",
          "name": "stdout",
          "text": [
            "       predicted \n",
            "actual   neg  pos\n",
            "neg       76   21\n",
            "pos       54   59\n"
          ]
        }
      ]
    },
    {
      "cell_type": "markdown",
      "source": [
        "Here we can calculate by hand the correctly predicted negatives and positives, and divide those by the total predictions, and we see that our accuracy is the same here, verifying our model's accuracy once again.\n",
        "\n"
      ],
      "metadata": {
        "id": "YTUzcFqRjQss"
      }
    },
    {
      "cell_type": "markdown",
      "source": [
        "## Conclusions"
      ],
      "metadata": {
        "id": "G8RU_BCN99Gd"
      }
    },
    {
      "cell_type": "markdown",
      "source": [
        "Overall, the data was difficult to extract connections from. We saw that global sales changed year to year, and that there weren't many clear connections between variables, which caused us to narrow our target to something reasonable given the limited correlation. We chose a reasonable metric for a successful game based on the median, and our predictions improved upon the baseline by over 12%. This is a good improvement. Given more time, and given what we have learned in the process of refining our ML model, we are sure that improvements could be made by continued and more complex feature engineering and perhaps some anomoly detection. We learned that game sales are volatile and sensative to change, making them hard to predict. We think this kind of model could be useful in flagging bad video games, and could conceivably be applied to other big companies, and even other products."
      ],
      "metadata": {
        "id": "H3nrgNW3-AeZ"
      }
    }
  ]
}